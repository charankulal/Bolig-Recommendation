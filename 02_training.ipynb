{
 "cells": [
  {
   "cell_type": "code",
   "execution_count": null,
   "id": "85d003f6",
   "metadata": {},
   "outputs": [],
   "source": [
    "import pandas as pd\n",
    "from sklearn.ensemble import StackingRegressor\n",
    "from sklearn.linear_model import LinearRegression\n",
    "from sklearn.model_selection import train_test_split\n",
    "from sklearn.pipeline import Pipeline\n",
    "from xgboost import XGBRegressor\n",
    "from lightgbm import LGBMRegressor\n",
    "from sklearn.metrics import mean_absolute_error, mean_squared_error\n",
    "\n",
    "# Load your Excel file\n",
    "# Make sure to `pip install openpyxl`\n",
    "df = pd.read_excel('./synthetic_housing_data.xlsx')  # <<< updated for Excel\n",
    "\n",
    "# Choose your features and target\n",
    "features = [\n",
    "    'Age', 'Adults', 'Children', 'Rent', 'IsStudent',\n",
    "    'Distance_to_New_Tenancy', 'Total_Rooms', 'Area_m2',\n",
    "    'Hospital_distance', 'Gym_distance', 'School_distance',\n",
    "    'Supermarket_distance', 'Distance_to_University'\n",
    "]\n",
    "X = df[features]\n",
    "y = df['Label']  # or your chosen target column\n",
    "\n",
    "# Train/validation split\n",
    "X_train, X_val, y_train, y_val = train_test_split(\n",
    "    X, y, test_size=0.2, random_state=42\n",
    ")\n",
    "\n",
    "\n",
    "\n",
    "xgb_model = Pipeline(\n",
    "    steps=[\n",
    "        (\"regressor\", XGBRegressor(n_estimators=1000, learning_rate=0.05, max_depth=6, random_state=42)),\n",
    "    ]\n",
    ")\n",
    "\n",
    "lgbm_model = Pipeline(\n",
    "    steps=[\n",
    "        (\n",
    "            \"regressor\",\n",
    "            LGBMRegressor(n_estimators=1000, learning_rate=0.05, max_depth=-1, random_state = 42),\n",
    "        ),\n",
    "    ]\n",
    ")\n",
    "\n",
    "\n",
    "\n",
    "# Stacking ensemble\n",
    "stacked_model = StackingRegressor(\n",
    "    estimators=[ (\"xgb\", xgb_model), (\"lightgbm\", lgbm_model)],\n",
    "    final_estimator=LinearRegression(),\n",
    "    cv=5,\n",
    ")\n",
    "\n",
    "stacked_model.fit(X_train, y_train)\n",
    "\n",
    "y_pred = stacked_model.predict(X_val)\n",
    "\n",
    "# Evaluation\n",
    "mae = mean_absolute_error(y_val, y_pred)\n",
    "mse = mean_squared_error(y_val, y_pred)\n",
    "\n",
    "\n",
    "print(f\"Mean Absolute Error: {mae:.2f}\")\n",
    "print(f\"Mean Squared Error: {mse:.2f}\")"
   ]
  },
  {
   "cell_type": "code",
   "execution_count": null,
   "id": "ae13fc83",
   "metadata": {},
   "outputs": [
    {
     "name": "stdout",
     "output_type": "stream",
     "text": [
      "[0.69596019]\n"
     ]
    }
   ],
   "source": [
    "new_data = pd.DataFrame(\n",
    "    {\n",
    "        'Age':[35], 'Adults':[2], 'Children':[1], 'Rent':[20], 'IsStudent':[False],\n",
    "    'Distance_to_New_Tenancy':[1], 'Total_Rooms':[3], 'Area_m2':[90],\n",
    "    'Hospital_distance':[1], 'Gym_distance':[3], 'School_distance':[2],\n",
    "    'Supermarket_distance':[1], 'Distance_to_University':[5]\n",
    "    }\n",
    ")\n",
    "\n",
    "\n",
    "predicted_desirability = stacked_model.predict(new_data)\n",
    "print(predicted_desirability)"
   ]
  }
 ],
 "metadata": {
  "kernelspec": {
   "display_name": ".venv (3.13.5)",
   "language": "python",
   "name": "python3"
  },
  "language_info": {
   "codemirror_mode": {
    "name": "ipython",
    "version": 3
   },
   "file_extension": ".py",
   "mimetype": "text/x-python",
   "name": "python",
   "nbconvert_exporter": "python",
   "pygments_lexer": "ipython3",
   "version": "3.13.5"
  }
 },
 "nbformat": 4,
 "nbformat_minor": 5
}
